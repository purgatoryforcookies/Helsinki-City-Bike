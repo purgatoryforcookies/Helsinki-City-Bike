{
 "cells": [
  {
   "cell_type": "code",
   "execution_count": 5,
   "metadata": {},
   "outputs": [],
   "source": [
    "import connection"
   ]
  },
  {
   "cell_type": "code",
   "execution_count": 12,
   "metadata": {},
   "outputs": [
    {
     "name": "stdout",
     "output_type": "stream",
     "text": [
      "     FID  station_id            name                   name_swe                  name_eng               address          address_swe   city city_swe          operator  capacity          x          y\n",
      "0      1         501       Hanasaari                 Hanaholmen                 Hanasaari     Hanasaarenranta 1  Hanaholmsstranden 1  Espoo     Esbo  CityBike Finland        10  24.840319  60.165820\n",
      "1      2         503      Keilalahti                 Kägelviken                Keilalahti      Keilalahdentie 2     Kägelviksvägen 2  Espoo     Esbo  CityBike Finland        28  24.827467  60.171524\n",
      "2      3         505  Westendinasema           Westendstationen            Westendinasema        Westendintie 1       Westendvägen 1  Espoo     Esbo  CityBike Finland        16  24.805758  60.168266\n",
      "3      4         507       Golfpolku                 Golfstigen                 Golfpolku           Golfpolku 3         Golfstigen 3  Espoo     Esbo  CityBike Finland        16  24.796136  60.168143\n",
      "4      5         509   Revontulentie             Norrskensvägen             Revontulentie      Revontulentie 10    Norrskensvägen 10  Espoo     Esbo  CityBike Finland        30  24.802938  60.171551\n",
      "..   ...         ...             ...                        ...                       ...                   ...                  ...    ...      ...               ...       ...        ...        ...\n",
      "452  453         401  Koivusaari (M)  Björkholmens metrostation  Koivusaari metro station           Sotkatie 11      Dykandsvägen 11                                          16  24.855164  60.163386\n",
      "453  454         402    Bermudankuja             Bermudagränden             Välimerenkatu       Atlantinkatu 10       Atlantgatan 10                                          16  24.910142  60.154904\n",
      "454  455         403     Verkkosaari                  Nätholmen               Verkkosaari      Tukkutorinkuja 3    Partitorgsgränden                                          20  24.977548  60.189556\n",
      "455  456         404      Sompasaari                    Sumparn                Sompasaari  Sompasaarenlaituri 2        Sumparkajen 2                                          14  24.976076  60.182931\n",
      "456  457         405          Jollas                     Jollas                    Jollas       Jollaksentie 33       Jollasvägen 33                                          16  25.061668  60.164407\n",
      "\n",
      "[457 rows x 13 columns]\n"
     ]
    }
   ],
   "source": [
    "\n",
    "import pandas as pd\n",
    "import os\n",
    "# from pandas_profiling import ProfileReport\n",
    "# import matplotlib\n",
    "\n",
    "pd.set_option('display.max_columns', 13)\n",
    "pd.set_option('display.width', 1000)\n",
    "# # df = pd.read_csv('./CSV/2021-05.csv')\n",
    "\n",
    "# PATH = './CSV/'\n",
    "\n",
    "# # files = os.listdir('D:/Projektit/Koodausprojekteja/SolitaDevAcademy/back/internal/ETL/CSV')\n",
    "\n",
    "# files = os.listdir('./CSV/')\n",
    "\n",
    "\n",
    "\n",
    "# df = pd.DataFrame()\n",
    "\n",
    "# datecols = ['Departure','Return']\n",
    "\n",
    "# for f in files:\n",
    "#     df_tmp = pd.read_csv(PATH+f,parse_dates=datecols)\n",
    "#     # print(len(df_tmp))\n",
    "#     df = pd.concat([df, df_tmp])\n",
    "    \n",
    "#     # print(len(df))\n",
    "\n",
    "\n",
    "# df = df[(df['Covered distance (m)'] >= 10) & (df['Duration (sec.)'] >= 10)]\n",
    "# df = df.drop_duplicates(keep='first').reset_index(drop=True)\n",
    "\n",
    "# # profile = ProfileReport(df, title=\"Helsinki city bike dataset\")\n",
    "\n",
    "# # profile.to_file(\"soldev_data_report.html\")\n",
    "\n",
    "\n",
    "df = pd.read_csv('station_details.csv')\n",
    "column_names = ['FID','station_id','name', 'name_swe','name_eng','address','address_swe','city','city_swe','operator','capacity','x','y']\n",
    "\n",
    "df = df.set_axis(column_names, axis='columns')\n",
    "print(df)"
   ]
  },
  {
   "cell_type": "code",
   "execution_count": 2,
   "metadata": {},
   "outputs": [
    {
     "name": "stdout",
     "output_type": "stream",
     "text": [
      "     FID   ID            Nimi                       Namn                      Name                Osoite               Adress Kaupunki  Stad        Operaattor  Kapasiteet          x          y\n",
      "0      1  501       Hanasaari                 Hanaholmen                 Hanasaari     Hanasaarenranta 1  Hanaholmsstranden 1    Espoo  Esbo  CityBike Finland          10  24.840319  60.165820\n",
      "1      2  503      Keilalahti                 Kägelviken                Keilalahti      Keilalahdentie 2     Kägelviksvägen 2    Espoo  Esbo  CityBike Finland          28  24.827467  60.171524\n",
      "2      3  505  Westendinasema           Westendstationen            Westendinasema        Westendintie 1       Westendvägen 1    Espoo  Esbo  CityBike Finland          16  24.805758  60.168266\n",
      "3      4  507       Golfpolku                 Golfstigen                 Golfpolku           Golfpolku 3         Golfstigen 3    Espoo  Esbo  CityBike Finland          16  24.796136  60.168143\n",
      "4      5  509   Revontulentie             Norrskensvägen             Revontulentie      Revontulentie 10    Norrskensvägen 10    Espoo  Esbo  CityBike Finland          30  24.802938  60.171551\n",
      "..   ...  ...             ...                        ...                       ...                   ...                  ...      ...   ...               ...         ...        ...        ...\n",
      "452  453  401  Koivusaari (M)  Björkholmens metrostation  Koivusaari metro station           Sotkatie 11      Dykandsvägen 11                                           16  24.855164  60.163386\n",
      "453  454  402    Bermudankuja             Bermudagränden             Välimerenkatu       Atlantinkatu 10       Atlantgatan 10                                           16  24.910142  60.154904\n",
      "454  455  403     Verkkosaari                  Nätholmen               Verkkosaari      Tukkutorinkuja 3    Partitorgsgränden                                           20  24.977548  60.189556\n",
      "455  456  404      Sompasaari                    Sumparn                Sompasaari  Sompasaarenlaituri 2        Sumparkajen 2                                           14  24.976076  60.182931\n",
      "456  457  405          Jollas                     Jollas                    Jollas       Jollaksentie 33       Jollasvägen 33                                           16  25.061668  60.164407\n",
      "\n",
      "[457 rows x 13 columns]\n"
     ]
    }
   ],
   "source": []
  },
  {
   "cell_type": "code",
   "execution_count": 2,
   "metadata": {},
   "outputs": [],
   "source": [
    "\n",
    "df2 = df[['Departure station id', 'Departure station name', 'Return station id', 'Return station name']]\n",
    "\n",
    "df = df.drop(columns=['Departure station name','Return station name'])\n",
    "\n",
    "names = ['departure', 'arrival', 'departure_station_id', 'return_station_id', 'covered_distance_m','duration_s']\n",
    "\n",
    "\n",
    "df = df.set_axis(names, axis=1)\n"
   ]
  },
  {
   "cell_type": "code",
   "execution_count": 12,
   "metadata": {},
   "outputs": [
    {
     "name": "stdout",
     "output_type": "stream",
     "text": [
      "     station_id                 name\n",
      "0             1          Kaivopuisto\n",
      "1             2      Laivasillankatu\n",
      "2             3   Kapteeninpuistikko\n",
      "3             4            Viiskulma\n",
      "4             5            Sepänkatu\n",
      "..          ...                  ...\n",
      "454         900           Orionintie\n",
      "455         901              Outotec\n",
      "456         902  Derby Business Park\n",
      "457         997    Workshop Helsinki\n",
      "458         999      Bike Production\n",
      "\n",
      "[459 rows x 2 columns]\n"
     ]
    }
   ],
   "source": [
    "\n",
    "\n",
    "df_2 = df2[['Departure station id','Departure station name']]\n",
    "df_22 = df2[['Return station id', 'Return station name']]\n",
    "\n",
    "names_ = ['station_id', 'name']\n",
    "\n",
    "df_2.set_axis(names_, axis=1, inplace=True)\n",
    "df_22.set_axis(names_, axis=1, inplace=True)\n",
    "\n",
    "df_station = pd.concat([df_2,df_22]).drop_duplicates(keep='first').sort_values('station_id').reset_index(drop=True)\n",
    "\n",
    "print(df_station)"
   ]
  }
 ],
 "metadata": {
  "kernelspec": {
   "display_name": "Python 3",
   "language": "python",
   "name": "python3"
  },
  "language_info": {
   "codemirror_mode": {
    "name": "ipython",
    "version": 3
   },
   "file_extension": ".py",
   "mimetype": "text/x-python",
   "name": "python",
   "nbconvert_exporter": "python",
   "pygments_lexer": "ipython3",
   "version": "3.10.9 (tags/v3.10.9:1dd9be6, Dec  6 2022, 20:01:21) [MSC v.1934 64 bit (AMD64)]"
  },
  "orig_nbformat": 4,
  "vscode": {
   "interpreter": {
    "hash": "b71ba7e586cfb3bd6a8f610a066442176eb485451da71c828b93c038e0f680da"
   }
  }
 },
 "nbformat": 4,
 "nbformat_minor": 2
}
