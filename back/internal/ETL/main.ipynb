{
 "cells": [
  {
   "cell_type": "code",
   "execution_count": 5,
   "metadata": {},
   "outputs": [],
   "source": [
    "import connection"
   ]
  },
  {
   "cell_type": "code",
   "execution_count": 1,
   "metadata": {},
   "outputs": [],
   "source": [
    "\n",
    "import pandas as pd\n",
    "import os\n",
    "# from pandas_profiling import ProfileReport\n",
    "# import matplotlib\n",
    "\n",
    "pd.set_option('display.max_columns', 13)\n",
    "pd.set_option('display.width', 1000)\n",
    "# df = pd.read_csv('./CSV/2021-05.csv')\n",
    "\n",
    "PATH = './CSV/'\n",
    "\n",
    "# files = os.listdir('D:/Projektit/Koodausprojekteja/SolitaDevAcademy/back/internal/ETL/CSV')\n",
    "\n",
    "files = os.listdir('./CSV/')\n",
    "\n",
    "\n",
    "\n",
    "df = pd.DataFrame()\n",
    "\n",
    "datecols = ['Departure','Return']\n",
    "\n",
    "for f in files:\n",
    "    df_tmp = pd.read_csv(PATH+f,parse_dates=datecols)\n",
    "    # print(len(df_tmp))\n",
    "    df = pd.concat([df, df_tmp])\n",
    "    \n",
    "    # print(len(df))\n",
    "\n",
    "\n",
    "df = df[(df['Covered distance (m)'] >= 10) & (df['Duration (sec.)'] >= 10)]\n",
    "df = df.drop_duplicates(keep='first').reset_index(drop=True)\n",
    "\n",
    "# profile = ProfileReport(df, title=\"Helsinki city bike dataset\")\n",
    "\n",
    "# profile.to_file(\"soldev_data_report2.html\")\n",
    "\n",
    "\n",
    "\n",
    "\n",
    "\n"
   ]
  },
  {
   "cell_type": "code",
   "execution_count": null,
   "metadata": {},
   "outputs": [],
   "source": []
  },
  {
   "cell_type": "code",
   "execution_count": 2,
   "metadata": {},
   "outputs": [],
   "source": [
    "\n",
    "df2 = df[['Departure station id', 'Departure station name', 'Return station id', 'Return station name']]\n",
    "\n",
    "df = df.drop(columns=['Departure station name','Return station name'])\n",
    "\n",
    "names = ['departure', 'arrival', 'departure_station_id', 'return_station_id', 'covered_distance_m','duration_s']\n",
    "\n",
    "\n",
    "df = df.set_axis(names, axis=1)\n"
   ]
  },
  {
   "cell_type": "code",
   "execution_count": 12,
   "metadata": {},
   "outputs": [
    {
     "name": "stdout",
     "output_type": "stream",
     "text": [
      "     station_id                 name\n",
      "0             1          Kaivopuisto\n",
      "1             2      Laivasillankatu\n",
      "2             3   Kapteeninpuistikko\n",
      "3             4            Viiskulma\n",
      "4             5            Sepänkatu\n",
      "..          ...                  ...\n",
      "454         900           Orionintie\n",
      "455         901              Outotec\n",
      "456         902  Derby Business Park\n",
      "457         997    Workshop Helsinki\n",
      "458         999      Bike Production\n",
      "\n",
      "[459 rows x 2 columns]\n"
     ]
    }
   ],
   "source": [
    "\n",
    "\n",
    "df_2 = df2[['Departure station id','Departure station name']]\n",
    "df_22 = df2[['Return station id', 'Return station name']]\n",
    "\n",
    "names_ = ['station_id', 'name']\n",
    "\n",
    "df_2.set_axis(names_, axis=1, inplace=True)\n",
    "df_22.set_axis(names_, axis=1, inplace=True)\n",
    "\n",
    "df_station = pd.concat([df_2,df_22]).drop_duplicates(keep='first').sort_values('station_id').reset_index(drop=True)\n",
    "\n",
    "print(df_station)"
   ]
  }
 ],
 "metadata": {
  "kernelspec": {
   "display_name": "Python 3.9.10 64-bit",
   "language": "python",
   "name": "python3"
  },
  "language_info": {
   "codemirror_mode": {
    "name": "ipython",
    "version": 3
   },
   "file_extension": ".py",
   "mimetype": "text/x-python",
   "name": "python",
   "nbconvert_exporter": "python",
   "pygments_lexer": "ipython3",
   "version": "3.9.10"
  },
  "orig_nbformat": 4,
  "vscode": {
   "interpreter": {
    "hash": "7abb201f37cdae3ead4d12731df47e5cd425ba72e994e19b39f74405f24361bc"
   }
  }
 },
 "nbformat": 4,
 "nbformat_minor": 2
}
