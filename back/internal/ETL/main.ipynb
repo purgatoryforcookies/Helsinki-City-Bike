{
 "cells": [
  {
   "cell_type": "code",
   "execution_count": 1,
   "metadata": {},
   "outputs": [],
   "source": [
    "\n",
    "import pandas as pd\n",
    "import os\n",
    "from pandas_profiling import ProfileReport\n",
    "import matplotlib\n",
    "\n",
    "pd.set_option('display.max_columns', 13)\n",
    "pd.set_option('display.width', 1000)\n",
    "# df = pd.read_csv('./CSV/2021-05.csv')\n",
    "\n",
    "PATH = './CSV/'\n",
    "\n",
    "# files = os.listdir('D:/Projektit/Koodausprojekteja/SolitaDevAcademy/back/internal/ETL/CSV')\n",
    "\n",
    "files = os.listdir('./CSV/')\n",
    "\n",
    "\n",
    "\n",
    "df = pd.DataFrame()\n",
    "\n",
    "datecols = ['Departure','Return']\n",
    "\n",
    "for f in files:\n",
    "    df_tmp = pd.read_csv(PATH+f,parse_dates=datecols)\n",
    "    # print(len(df_tmp))\n",
    "    df = pd.concat([df, df_tmp])\n",
    "    \n",
    "    # print(len(df))\n",
    "\n",
    "\n",
    "df = df[(df['Covered distance (m)'] >= 10) & (df['Duration (sec.)'] >= 10)]\n",
    "df = df.drop_duplicates(keep='first').reset_index(drop=True)\n",
    "\n",
    "# profile = ProfileReport(df, title=\"Helsinki city bike dataset\")\n",
    "\n",
    "# profile.to_file(\"soldev_data_report2.html\")\n",
    "\n",
    "\n",
    "\n",
    "\n",
    "\n"
   ]
  }
 ],
 "metadata": {
  "kernelspec": {
   "display_name": "Python 3.9.12 ('tf_gpu')",
   "language": "python",
   "name": "python3"
  },
  "language_info": {
   "codemirror_mode": {
    "name": "ipython",
    "version": 3
   },
   "file_extension": ".py",
   "mimetype": "text/x-python",
   "name": "python",
   "nbconvert_exporter": "python",
   "pygments_lexer": "ipython3",
   "version": "3.9.12"
  },
  "orig_nbformat": 4,
  "vscode": {
   "interpreter": {
    "hash": "8e9f09717e4bce3bf3fcc2330c361d3884bcc8fb35c2235ab136129d24a3f126"
   }
  }
 },
 "nbformat": 4,
 "nbformat_minor": 2
}
